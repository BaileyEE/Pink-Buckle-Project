{
 "cells": [
  {
   "cell_type": "code",
   "execution_count": 1,
   "metadata": {},
   "outputs": [],
   "source": [
    "# Data Aquisition\n",
    "import tabula\n",
    "file_path = \"./PDF/PB-Futurity-2020-2nd-Go.pdf\"\n",
    "#df = tabula.read_pdf(file_path, pages=\"all\", lattice=\"True\")\n",
    "#print (df)\n",
    "#directory = \"./PDF/\"\n",
    "tabula.convert_into(file_path,output_path=\"./PB-Futurity-2020-2nd-Go.csv\", output_format='csv', stream = \"true\", pages = \"all\", lattice = \"false\")\n",
    "#tabula.convert_into_by_batch(directory, output_path='../PDF', output_format='csv', pages = \"all\",lattice = \"False\")"
   ]
  },
  {
   "cell_type": "code",
   "execution_count": null,
   "metadata": {},
   "outputs": [],
   "source": []
  }
 ],
 "metadata": {
  "kernelspec": {
   "display_name": "Python 3",
   "language": "python",
   "name": "python3"
  },
  "language_info": {
   "codemirror_mode": {
    "name": "ipython",
    "version": 3
   },
   "file_extension": ".py",
   "mimetype": "text/x-python",
   "name": "python",
   "nbconvert_exporter": "python",
   "pygments_lexer": "ipython3",
   "version": "3.8.5"
  }
 },
 "nbformat": 4,
 "nbformat_minor": 4
}

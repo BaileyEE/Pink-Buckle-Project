{
 "cells": [
  {
   "cell_type": "code",
   "execution_count": 1,
   "metadata": {},
   "outputs": [],
   "source": [
    "# Data Aquisition\n",
    "import tabula"
   ]
  },
  {
   "cell_type": "markdown",
   "metadata": {},
   "source": [
    "# Change file type to code from raw to Use the cell below to convert a single file to CSV, or for output trouble shooting. "
   ]
  },
  {
   "cell_type": "raw",
   "metadata": {},
   "source": [
    "file_path = \"./PDF/PB-Futurity-2020-2nd-Go.pdf\"\n",
    "tabula.convert_into(file_path,output_path=\"./PB-Futurity-2020-2nd-Go.csv\", output_format='csv', stream = \"true\", pages = \"all\", lattice = \"false\")"
   ]
  },
  {
   "cell_type": "markdown",
   "metadata": {},
   "source": [
    "# Use the following cell to convert a whole directory of PDFs to CSV"
   ]
  },
  {
   "cell_type": "code",
   "execution_count": 1,
   "metadata": {},
   "outputs": [],
   "source": [
    "directory = \"./PDF/\"\n",
    "tabula.convert_into_by_batch(directory, output_path='../PDF', output_format='csv', pages = \"all\",lattice = \"False\")"
   ]
  }
 ],
 "metadata": {
  "kernelspec": {
   "display_name": "Python 3",
   "language": "python",
   "name": "python3"
  },
  "language_info": {
   "codemirror_mode": {
    "name": "ipython",
    "version": 3
   },
   "file_extension": ".py",
   "mimetype": "text/x-python",
   "name": "python",
   "nbconvert_exporter": "python",
   "pygments_lexer": "ipython3",
   "version": "3.8.5"
  }
 },
 "nbformat": 4,
 "nbformat_minor": 4
}

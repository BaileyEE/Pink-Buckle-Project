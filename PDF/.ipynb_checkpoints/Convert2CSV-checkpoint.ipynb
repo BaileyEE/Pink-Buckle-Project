{
 "cells": [
  {
   "cell_type": "code",
   "execution_count": null,
   "metadata": {},
   "outputs": [],
   "source": [
    "# Data Aquisition - Convert results PDF to a CSV\n",
    "import tabula"
   ]
  },
  {
   "cell_type": "code",
   "execution_count": null,
   "metadata": {},
   "outputs": [],
   "source": [
    "file_path = \"./PDF/PB-Futurity-2019-2nd-Go.pdf\"\n",
    "tabula.convert_into(file_path,output_path=\"./PB-Futurity-2020-2nd-Go.csv\", output_format='csv', stream = \"true\", pages = \"all\", lattice = \"false\")\n",
    "tabula.convert_into_by_batch(directory, output_path='../PDF', output_format='csv', pages = \"all\",lattice = \"False\")"
   ]
  },
  {
   "cell_type": "raw",
   "metadata": {},
   "source": [
    "Lets start by opening a file and creating a script that will format the data from the pdf into something easier to use."
   ]
  },
  {
   "cell_type": "code",
   "execution_count": 7,
   "metadata": {},
   "outputs": [],
   "source": []
  }
 ],
 "metadata": {
  "kernelspec": {
   "display_name": "Python 3",
   "language": "python",
   "name": "python3"
  },
  "language_info": {
   "codemirror_mode": {
    "name": "ipython",
    "version": 3
   },
   "file_extension": ".py",
   "mimetype": "text/x-python",
   "name": "python",
   "nbconvert_exporter": "python",
   "pygments_lexer": "ipython3",
   "version": "3.8.5"
  }
 },
 "nbformat": 4,
 "nbformat_minor": 4
}

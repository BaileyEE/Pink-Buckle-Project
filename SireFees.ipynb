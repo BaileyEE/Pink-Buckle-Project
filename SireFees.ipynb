{
 "cells": [
  {
   "cell_type": "code",
   "execution_count": 4,
   "metadata": {},
   "outputs": [],
   "source": [
    "import numpy as np\n",
    "import pandas as pd\n",
    "import matplotlib.pyplot as plt"
   ]
  },
  {
   "cell_type": "code",
   "execution_count": 92,
   "metadata": {},
   "outputs": [],
   "source": [
    "df_sires = pd.read_csv('PB_Sires_2021_Fees.csv')\n",
    "\n",
    "df_sires.head(50)\n",
    "\n",
    "sire_fees=df_sires.iloc[:,[0,5]] #drop columns with information that are not to be used in our anaylisis\n",
    "\n",
    "#Convert the objects to string\n",
    "\n",
    "sire_fees.astype(str)\n",
    "fees=sire_fees['Fee'].value_counts()\n",
    "sire_fees=sire_fees.drop([30])\n",
    "sire_fees=sire_fees['Fee'].astype(int)"
   ]
  },
  {
   "cell_type": "code",
   "execution_count": 97,
   "metadata": {},
   "outputs": [
    {
     "name": "stdout",
     "output_type": "stream",
     "text": [
      "The Average Stud fee is $ 2846.938775510204\n",
      "The most common Stud fee is $ 0    2000\n",
      "dtype: int64\n"
     ]
    }
   ],
   "source": [
    "print(\"The Average Stud fee is $\",sire_fees.mean())\n",
    "print(\"The most common Stud fee is $\",sire_fees.mode())"
   ]
  },
  {
   "cell_type": "code",
   "execution_count": 61,
   "metadata": {},
   "outputs": [],
   "source": [
    "\n"
   ]
  },
  {
   "cell_type": "code",
   "execution_count": 99,
   "metadata": {},
   "outputs": [
    {
     "data": {
      "text/plain": [
       "Text(0.5, 0, 'Stud fee ($USD)')"
      ]
     },
     "execution_count": 99,
     "metadata": {},
     "output_type": "execute_result"
    },
    {
     "data": {
      "image/png": "[encoded data removed]",
      "text/plain": [
       "<Figure size 432x288 with 1 Axes>"
      ]
     },
     "metadata": {
      "needs_background": "light"
     },
     "output_type": "display_data"
    }
   ],
   "source": [
    "fees.plot(kind=\"bar\", color=\"C6\")\n",
    "plt.title(\" 2021 Pink Buckle Stud Fees \")\n",
    "plt.ylabel('No. of Stallions')\n",
    "plt.xlabel(\"Stud fee ($USD)\")"
   ]
  },
  {
   "cell_type": "code",
   "execution_count": null,
   "metadata": {},
   "outputs": [],
   "source": []
  },
  {
   "cell_type": "code",
   "execution_count": null,
   "metadata": {},
   "outputs": [],
   "source": []
  }
 ],
 "metadata": {
  "kernelspec": {
   "display_name": "Python 3",
   "language": "python",
   "name": "python3"
  },
  "language_info": {
   "codemirror_mode": {
    "name": "ipython",
    "version": 3
   },
   "file_extension": ".py",
   "mimetype": "text/x-python",
   "name": "python",
   "nbconvert_exporter": "python",
   "pygments_lexer": "ipython3",
   "version": "3.8.5"
  }
 },
 "nbformat": 4,
 "nbformat_minor": 4
}
